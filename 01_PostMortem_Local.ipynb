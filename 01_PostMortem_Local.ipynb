{
 "cells": [
  {
   "cell_type": "markdown",
   "metadata": {},
   "source": [
    "# Post Mortem - Take 1\n",
    "\n",
    "Version 1 of the analysis notebook.\n",
    "\n",
    "Project goals were to see how much data there was for each CAN ID"
   ]
  },
  {
   "cell_type": "code",
   "execution_count": 1,
   "metadata": {},
   "outputs": [],
   "source": [
    "class CanMsg(object):\n",
    "    \"\"\"Generic class to represent can data.\"\"\"\n",
    "    def __init__(self, canid, data):\n",
    "        self.canid=canid\n",
    "        self.data=data\n",
    "        \n",
    "    def __repr__(self):\n",
    "        return f\"CAN<{self.canid}, {self.data}>\""
   ]
  },
  {
   "cell_type": "markdown",
   "metadata": {},
   "source": [
    "Open the log file for analysis and return unique data messages for each CAN ID.\n",
    "\n",
    "\n",
    "`candump` creates a text file as such:\n",
    "\n",
    "```\n",
    "(1596811036.445425) can2 2A8#020000000080A0CC\n",
    "(1596811036.447770) can2 311#7ACC095041\n",
    "```"
   ]
  },
  {
   "cell_type": "code",
   "execution_count": 2,
   "metadata": {},
   "outputs": [],
   "source": [
    "def parse_log(log_file):\n",
    "    # Create a list to hold all of the CanMsg objects.\n",
    "    messages = list()\n",
    "    \"\"\" Read the log_file. \"\"\"\n",
    "    with open(log_file, \"r\") as f:\n",
    "        for can_msg in f.readlines():\n",
    "            can_id, can_data = can_msg.strip().split(\" \")[-1].split(\"#\")\n",
    "            cm = CanMsg(can_id, can_data)\n",
    "            messages.append(cm)\n",
    "    # Create a dict to hold unique data\n",
    "    unique_datas = dict()\n",
    "    # For each unique CAN ID.\n",
    "    for canid in set([msg.canid for msg in messages]):\n",
    "        # Get the unique messages on for each ID \n",
    "        id_datas = set([msg.data for msg in messages if msg.canid==canid])\n",
    "        # Add it to the dict using the canid as the key.\n",
    "        unique_datas[canid] = id_datas\n",
    "    # Return it.\n",
    "    return unique_datas"
   ]
  },
  {
   "cell_type": "code",
   "execution_count": 3,
   "metadata": {},
   "outputs": [],
   "source": [
    "data = parse_log(\"final_log\")"
   ]
  },
  {
   "cell_type": "markdown",
   "metadata": {},
   "source": [
    "Split the data messages into high and low frequency groups with the number of times the ID was seen:"
   ]
  },
  {
   "cell_type": "code",
   "execution_count": 4,
   "metadata": {},
   "outputs": [
    {
     "name": "stdout",
     "output_type": "stream",
     "text": [
      "High Frequency Message IDs:\n",
      "    3A2: 17084\n",
      "    4E1: 8543\n",
      "    3A4: 5400\n",
      "    104: 1054\n",
      "    4F1: 96\n",
      "    311: 38\n",
      "    421: 62\n",
      "    3A3: 2707\n",
      "Low Frequency Message IDs:\n",
      "    3E1: 16\n",
      "    2E8: 16\n",
      "    222: 16\n",
      "    3A5: 14\n",
      "    221: 16\n",
      "    2A8: 16\n",
      "    30A: 16\n",
      "    263: 16\n",
      "    3A6: 12\n",
      "    31A: 16\n"
     ]
    }
   ],
   "source": [
    "thresh=16\n",
    "print(\"High Frequency Message IDs:\")\n",
    "for key, items in data.items():\n",
    "    l = len(items)\n",
    "    if l>thresh:\n",
    "        print(f\"    {key}: {len(items)}\")\n",
    "print(\"Low Frequency Message IDs:\")\n",
    "for key, items in data.items():\n",
    "    l = len(items)\n",
    "    if l<=thresh:\n",
    "        print(f\"    {key}: {len(items)}\")"
   ]
  },
  {
   "cell_type": "markdown",
   "metadata": {},
   "source": [
    "Pick out one ID and see which bits change and by how much:"
   ]
  },
  {
   "cell_type": "code",
   "execution_count": 5,
   "metadata": {},
   "outputs": [
    {
     "data": {
      "text/plain": [
       "{'9A9EFF7F2900',\n",
       " '9A9EFF7F2B00',\n",
       " '9A9EFF7F2D00',\n",
       " '9A9EFF7F2F00',\n",
       " '9A9EFF7F3100',\n",
       " '9A9EFF7F3300',\n",
       " '9A9EFF7F3500',\n",
       " '9A9EFF7F3700',\n",
       " '9A9EFF7F3900',\n",
       " '9A9EFF7F3B00',\n",
       " '9A9EFF7F3D00',\n",
       " '9A9EFF7F3F00'}"
      ]
     },
     "execution_count": 5,
     "metadata": {},
     "output_type": "execute_result"
    }
   ],
   "source": [
    "data[\"3A6\"]"
   ]
  },
  {
   "cell_type": "markdown",
   "metadata": {},
   "source": [
    "# TODO:\n",
    "\n",
    "- Analyze each of the can messages taking guesses at datatypes.\n",
    "- Look at the dbc files to see if any of those message ID's \n",
    "- Sleep.\n",
    "\n",
    "Thanks to everyone at the vCHV team! I haven't had this much fun since HvZ CTF."
   ]
  },
  {
   "cell_type": "markdown",
   "metadata": {},
   "source": [
    "*4 months later*\n",
    "\n",
    "Documented documentation and writeup."
   ]
  }
 ],
 "metadata": {
  "kernelspec": {
   "display_name": "Python 3",
   "language": "python",
   "name": "python3"
  },
  "language_info": {
   "codemirror_mode": {
    "name": "ipython",
    "version": 3
   },
   "file_extension": ".py",
   "mimetype": "text/x-python",
   "name": "python",
   "nbconvert_exporter": "python",
   "pygments_lexer": "ipython3",
   "version": "3.8.5"
  }
 },
 "nbformat": 4,
 "nbformat_minor": 4
}
