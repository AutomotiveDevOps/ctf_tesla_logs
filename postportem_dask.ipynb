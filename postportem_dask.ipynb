{
 "cells": [
  {
   "cell_type": "markdown",
   "metadata": {},
   "source": [
    "# Hello World.\n",
    "\n",
    "Visual Studio Code Jupyter Notebooks Interface."
   ]
  },
  {
   "cell_type": "code",
   "execution_count": 2,
   "metadata": {
    "tags": []
   },
   "outputs": [],
   "source": [
    "import fsspec"
   ]
  },
  {
   "cell_type": "code",
   "execution_count": 17,
   "metadata": {},
   "outputs": [],
   "source": [
    "fs = fsspec.filesystem(\"file\")"
   ]
  },
  {
   "cell_type": "code",
   "execution_count": 29,
   "metadata": {},
   "outputs": [],
   "source": [
    "with fs.open(path=\"final_log\") as f:\n",
    "    can_data = f.read()"
   ]
  },
  {
   "cell_type": "code",
   "execution_count": 30,
   "metadata": {},
   "outputs": [],
   "source": [
    "hammer = dict()"
   ]
  },
  {
   "cell_type": "code",
   "execution_count": 35,
   "metadata": {},
   "outputs": [],
   "source": [
    "for can_line in can_data.splitlines():\n",
    "    time_raw, bus_raw, msg_raw = can_line.decode().split(\" \")"
   ]
  },
  {
   "cell_type": "code",
   "execution_count": 36,
   "metadata": {},
   "outputs": [
    {
     "data": {
      "text/plain": [
       "'(1596812251.634242)'"
      ]
     },
     "execution_count": 36,
     "metadata": {},
     "output_type": "execute_result"
    }
   ],
   "source": [
    "time_raw"
   ]
  },
  {
   "cell_type": "code",
   "execution_count": 37,
   "metadata": {},
   "outputs": [
    {
     "data": {
      "text/plain": [
       "'can2'"
      ]
     },
     "execution_count": 37,
     "metadata": {},
     "output_type": "execute_result"
    }
   ],
   "source": [
    "bus_raw"
   ]
  },
  {
   "cell_type": "code",
   "execution_count": 38,
   "metadata": {},
   "outputs": [
    {
     "data": {
      "text/plain": [
       "'3A6#9A9EFF7F3D00'"
      ]
     },
     "execution_count": 38,
     "metadata": {},
     "output_type": "execute_result"
    }
   ],
   "source": [
    "msg_raw"
   ]
  },
  {
   "cell_type": "code",
   "execution_count": 39,
   "metadata": {},
   "outputs": [],
   "source": [
    "can_id_hex_str, can_data = msg_raw.split(\"#\")"
   ]
  },
  {
   "cell_type": "code",
   "execution_count": 42,
   "metadata": {},
   "outputs": [
    {
     "data": {
      "text/plain": [
       "6"
      ]
     },
     "execution_count": 42,
     "metadata": {},
     "output_type": "execute_result"
    }
   ],
   "source": [
    "int(len(can_data)/2)"
   ]
  },
  {
   "cell_type": "code",
   "execution_count": 56,
   "metadata": {},
   "outputs": [],
   "source": [
    "hammer=dict()\n",
    "if not can_id_hex_str in hammer:\n",
    "    hammer[can_id_hex_str]=dict({\n",
    "        \"timestamp\": list(),\n",
    "        \"canbus\": list(),\n",
    "        \"can_id\": list(),\n",
    "        \"can_id_hex\": list(),\n",
    "        \"can_data_hex\": list()\n",
    "    })\n",
    "    for byte in range(int(len(can_data)/2)):\n",
    "        hammer[can_id_hex_str][f\"B{byte}\"]=list()\n",
    "        hammer[can_id_hex_str][f\"b{byte}\"]=list()"
   ]
  },
  {
   "cell_type": "code",
   "execution_count": 57,
   "metadata": {},
   "outputs": [],
   "source": [
    "timestamp = float(time_raw.strip(\")(\"))\n",
    "hammer[can_id_hex_str][\"timestamp\"].append(timestamp)\n",
    "hammer[can_id_hex_str][\"canbus\"].append(bus_raw)\n",
    "hammer[can_id_hex_str][\"can_id\"].append(int(can_id_hex_str, base=16))\n",
    "hammer[can_id_hex_str][\"can_id_hex\"].append(can_id_hex_str)\n",
    "hammer[can_id_hex_str][\"can_data_hex\"].append(can_data)"
   ]
  },
  {
   "cell_type": "code",
   "execution_count": 58,
   "metadata": {},
   "outputs": [],
   "source": [
    "can_data_bytes = [ \n",
    "    int(can_data[idx:idx+2], base=16)\n",
    "    for idx in range(0, len(can_data), 2)\n",
    "]"
   ]
  },
  {
   "cell_type": "code",
   "execution_count": 67,
   "metadata": {},
   "outputs": [],
   "source": [
    "for byte_idx, byte_data in enumerate(can_data_bytes):\n",
    "    hammer[can_id_hex_str][f\"B{byte_idx}\"].append(byte_data)\n",
    "    byte_data_unsigned = struct.unpack(\"<b\", struct.pack(\"<B\", 154))[0]\n",
    "    hammer[can_id_hex_str][f\"b{byte_idx}\"].append(byte_data)"
   ]
  },
  {
   "cell_type": "code",
   "execution_count": 74,
   "metadata": {},
   "outputs": [],
   "source": [
    "with fs.open(path=\"final_log\") as f:\n",
    "    candump_log_data = f.read()"
   ]
  },
  {
   "cell_type": "code",
   "execution_count": 76,
   "metadata": {},
   "outputs": [],
   "source": [
    "def process_log_line(can_line):\n",
    "    if isinstance(can_line, bytes):\n",
    "        can_line=can_line.decode()\n",
    "    time_raw, bus_raw, msg_raw = can_line.split(\" \")\n",
    "for can_line in candump_log_data.splitlines():\n",
    "    \n",
    "    process_log_line(can_line)\n",
    "\n",
    "\n",
    "    process_log_line(can_line.decode())"
   ]
  },
  {
   "cell_type": "code",
   "execution_count": null,
   "metadata": {},
   "outputs": [],
   "source": []
  },
  {
   "cell_type": "code",
   "execution_count": 94,
   "metadata": {},
   "outputs": [],
   "source": [
    "hammer=dict()\n",
    "\n",
    "def init_dict(can_data):\n",
    "    tmp = dict({\n",
    "            \"timestamp\": list(),\n",
    "            \"canbus\": list(),\n",
    "            \"can_id\": list(),\n",
    "            \"can_id_hex\": list(),\n",
    "            \"can_data_hex\": list()\n",
    "        })\n",
    "    for byte in range(int(len(can_data)/2)):\n",
    "        tmp[f\"B{byte}\"]=list()\n",
    "        tmp[f\"b{byte}\"]=list()\n",
    "    return tmp\n",
    "\n",
    "def process_log_line(can_line):\n",
    "    ## Preprocess\n",
    "    if isinstance(can_line, bytes):\n",
    "        can_line=can_line.decode()\n",
    "    ## Process\n",
    "    time_raw, bus_raw, msg_raw = can_line.split(\" \")   \n",
    "    can_id_hex_str, can_data = msg_raw.split(\"#\")\n",
    "    timestamp = float(time_raw.strip(\")(\"))\n",
    "    ## Init\n",
    "    if not can_id_hex_str in hammer:\n",
    "        hammer[can_id_hex_str]=init_dict(can_data)\n",
    "\n",
    "    hammer[can_id_hex_str][\"timestamp\"].append(timestamp)\n",
    "    hammer[can_id_hex_str][\"canbus\"].append(bus_raw)\n",
    "    hammer[can_id_hex_str][\"can_id\"].append(int(can_id_hex_str, base=16))\n",
    "    hammer[can_id_hex_str][\"can_id_hex\"].append(can_id_hex_str)\n",
    "    hammer[can_id_hex_str][\"can_data_hex\"].append(can_data)\n",
    "\n",
    "    can_data_bytes = [ \n",
    "        int(can_data[idx:idx+2], base=16)\n",
    "        for idx in range(0, len(can_data), 2)\n",
    "    ]\n",
    "    for byte_idx, byte_data in enumerate(can_data_bytes):\n",
    "        hammer[can_id_hex_str][f\"B{byte_idx}\"].append(byte_data)\n",
    "        byte_data_unsigned = struct.unpack(\"<b\", struct.pack(\"<B\", byte_data))[0]\n",
    "        hammer[can_id_hex_str][f\"b{byte_idx}\"].append(byte_data_unsigned)\n",
    "\n",
    "\n",
    "for can_line in candump_log_data.splitlines():\n",
    "    process_log_line(can_line)"
   ]
  },
  {
   "cell_type": "code",
   "execution_count": 95,
   "metadata": {},
   "outputs": [],
   "source": [
    "for key, item in hammer.items():\n",
    "    break"
   ]
  },
  {
   "cell_type": "code",
   "execution_count": 96,
   "metadata": {},
   "outputs": [
    {
     "data": {
      "text/plain": [
       "dict"
      ]
     },
     "execution_count": 96,
     "metadata": {},
     "output_type": "execute_result"
    }
   ],
   "source": [
    "type(item)"
   ]
  },
  {
   "cell_type": "code",
   "execution_count": 98,
   "metadata": {},
   "outputs": [],
   "source": [
    "import pandas as pd"
   ]
  },
  {
   "cell_type": "code",
   "execution_count": 99,
   "metadata": {},
   "outputs": [],
   "source": [
    "data = pd.DataFrame(item)"
   ]
  },
  {
   "cell_type": "code",
   "execution_count": 100,
   "metadata": {},
   "outputs": [
    {
     "data": {
      "text/html": [
       "<div>\n",
       "<style scoped>\n",
       "    .dataframe tbody tr th:only-of-type {\n",
       "        vertical-align: middle;\n",
       "    }\n",
       "\n",
       "    .dataframe tbody tr th {\n",
       "        vertical-align: top;\n",
       "    }\n",
       "\n",
       "    .dataframe thead th {\n",
       "        text-align: right;\n",
       "    }\n",
       "</style>\n",
       "<table border=\"1\" class=\"dataframe\">\n",
       "  <thead>\n",
       "    <tr style=\"text-align: right;\">\n",
       "      <th></th>\n",
       "      <th>timestamp</th>\n",
       "      <th>canbus</th>\n",
       "      <th>can_id</th>\n",
       "      <th>can_id_hex</th>\n",
       "      <th>can_data_hex</th>\n",
       "      <th>B0</th>\n",
       "      <th>b0</th>\n",
       "      <th>B1</th>\n",
       "      <th>b1</th>\n",
       "      <th>B2</th>\n",
       "      <th>...</th>\n",
       "      <th>B3</th>\n",
       "      <th>b3</th>\n",
       "      <th>B4</th>\n",
       "      <th>b4</th>\n",
       "      <th>B5</th>\n",
       "      <th>b5</th>\n",
       "      <th>B6</th>\n",
       "      <th>b6</th>\n",
       "      <th>B7</th>\n",
       "      <th>b7</th>\n",
       "    </tr>\n",
       "  </thead>\n",
       "  <tbody>\n",
       "    <tr>\n",
       "      <th>0</th>\n",
       "      <td>1.596811e+09</td>\n",
       "      <td>can2</td>\n",
       "      <td>680</td>\n",
       "      <td>2A8</td>\n",
       "      <td>020000000080A0CC</td>\n",
       "      <td>2</td>\n",
       "      <td>2</td>\n",
       "      <td>0</td>\n",
       "      <td>0</td>\n",
       "      <td>0</td>\n",
       "      <td>...</td>\n",
       "      <td>0</td>\n",
       "      <td>0</td>\n",
       "      <td>0</td>\n",
       "      <td>0</td>\n",
       "      <td>128</td>\n",
       "      <td>-128</td>\n",
       "      <td>160</td>\n",
       "      <td>-96</td>\n",
       "      <td>204</td>\n",
       "      <td>-52</td>\n",
       "    </tr>\n",
       "    <tr>\n",
       "      <th>1</th>\n",
       "      <td>1.596811e+09</td>\n",
       "      <td>can2</td>\n",
       "      <td>680</td>\n",
       "      <td>2A8</td>\n",
       "      <td>020000000080B0DC</td>\n",
       "      <td>2</td>\n",
       "      <td>2</td>\n",
       "      <td>0</td>\n",
       "      <td>0</td>\n",
       "      <td>0</td>\n",
       "      <td>...</td>\n",
       "      <td>0</td>\n",
       "      <td>0</td>\n",
       "      <td>0</td>\n",
       "      <td>0</td>\n",
       "      <td>128</td>\n",
       "      <td>-128</td>\n",
       "      <td>176</td>\n",
       "      <td>-80</td>\n",
       "      <td>220</td>\n",
       "      <td>-36</td>\n",
       "    </tr>\n",
       "    <tr>\n",
       "      <th>2</th>\n",
       "      <td>1.596811e+09</td>\n",
       "      <td>can2</td>\n",
       "      <td>680</td>\n",
       "      <td>2A8</td>\n",
       "      <td>020000000080C0EC</td>\n",
       "      <td>2</td>\n",
       "      <td>2</td>\n",
       "      <td>0</td>\n",
       "      <td>0</td>\n",
       "      <td>0</td>\n",
       "      <td>...</td>\n",
       "      <td>0</td>\n",
       "      <td>0</td>\n",
       "      <td>0</td>\n",
       "      <td>0</td>\n",
       "      <td>128</td>\n",
       "      <td>-128</td>\n",
       "      <td>192</td>\n",
       "      <td>-64</td>\n",
       "      <td>236</td>\n",
       "      <td>-20</td>\n",
       "    </tr>\n",
       "    <tr>\n",
       "      <th>3</th>\n",
       "      <td>1.596811e+09</td>\n",
       "      <td>can2</td>\n",
       "      <td>680</td>\n",
       "      <td>2A8</td>\n",
       "      <td>020000000080D0FC</td>\n",
       "      <td>2</td>\n",
       "      <td>2</td>\n",
       "      <td>0</td>\n",
       "      <td>0</td>\n",
       "      <td>0</td>\n",
       "      <td>...</td>\n",
       "      <td>0</td>\n",
       "      <td>0</td>\n",
       "      <td>0</td>\n",
       "      <td>0</td>\n",
       "      <td>128</td>\n",
       "      <td>-128</td>\n",
       "      <td>208</td>\n",
       "      <td>-48</td>\n",
       "      <td>252</td>\n",
       "      <td>-4</td>\n",
       "    </tr>\n",
       "    <tr>\n",
       "      <th>4</th>\n",
       "      <td>1.596811e+09</td>\n",
       "      <td>can2</td>\n",
       "      <td>680</td>\n",
       "      <td>2A8</td>\n",
       "      <td>020000000080E00C</td>\n",
       "      <td>2</td>\n",
       "      <td>2</td>\n",
       "      <td>0</td>\n",
       "      <td>0</td>\n",
       "      <td>0</td>\n",
       "      <td>...</td>\n",
       "      <td>0</td>\n",
       "      <td>0</td>\n",
       "      <td>0</td>\n",
       "      <td>0</td>\n",
       "      <td>128</td>\n",
       "      <td>-128</td>\n",
       "      <td>224</td>\n",
       "      <td>-32</td>\n",
       "      <td>12</td>\n",
       "      <td>12</td>\n",
       "    </tr>\n",
       "    <tr>\n",
       "      <th>...</th>\n",
       "      <td>...</td>\n",
       "      <td>...</td>\n",
       "      <td>...</td>\n",
       "      <td>...</td>\n",
       "      <td>...</td>\n",
       "      <td>...</td>\n",
       "      <td>...</td>\n",
       "      <td>...</td>\n",
       "      <td>...</td>\n",
       "      <td>...</td>\n",
       "      <td>...</td>\n",
       "      <td>...</td>\n",
       "      <td>...</td>\n",
       "      <td>...</td>\n",
       "      <td>...</td>\n",
       "      <td>...</td>\n",
       "      <td>...</td>\n",
       "      <td>...</td>\n",
       "      <td>...</td>\n",
       "      <td>...</td>\n",
       "      <td>...</td>\n",
       "    </tr>\n",
       "    <tr>\n",
       "      <th>8537</th>\n",
       "      <td>1.596812e+09</td>\n",
       "      <td>can2</td>\n",
       "      <td>680</td>\n",
       "      <td>2A8</td>\n",
       "      <td>020000000080D0FC</td>\n",
       "      <td>2</td>\n",
       "      <td>2</td>\n",
       "      <td>0</td>\n",
       "      <td>0</td>\n",
       "      <td>0</td>\n",
       "      <td>...</td>\n",
       "      <td>0</td>\n",
       "      <td>0</td>\n",
       "      <td>0</td>\n",
       "      <td>0</td>\n",
       "      <td>128</td>\n",
       "      <td>-128</td>\n",
       "      <td>208</td>\n",
       "      <td>-48</td>\n",
       "      <td>252</td>\n",
       "      <td>-4</td>\n",
       "    </tr>\n",
       "    <tr>\n",
       "      <th>8538</th>\n",
       "      <td>1.596812e+09</td>\n",
       "      <td>can2</td>\n",
       "      <td>680</td>\n",
       "      <td>2A8</td>\n",
       "      <td>020000000080E00C</td>\n",
       "      <td>2</td>\n",
       "      <td>2</td>\n",
       "      <td>0</td>\n",
       "      <td>0</td>\n",
       "      <td>0</td>\n",
       "      <td>...</td>\n",
       "      <td>0</td>\n",
       "      <td>0</td>\n",
       "      <td>0</td>\n",
       "      <td>0</td>\n",
       "      <td>128</td>\n",
       "      <td>-128</td>\n",
       "      <td>224</td>\n",
       "      <td>-32</td>\n",
       "      <td>12</td>\n",
       "      <td>12</td>\n",
       "    </tr>\n",
       "    <tr>\n",
       "      <th>8539</th>\n",
       "      <td>1.596812e+09</td>\n",
       "      <td>can2</td>\n",
       "      <td>680</td>\n",
       "      <td>2A8</td>\n",
       "      <td>020000000080F01C</td>\n",
       "      <td>2</td>\n",
       "      <td>2</td>\n",
       "      <td>0</td>\n",
       "      <td>0</td>\n",
       "      <td>0</td>\n",
       "      <td>...</td>\n",
       "      <td>0</td>\n",
       "      <td>0</td>\n",
       "      <td>0</td>\n",
       "      <td>0</td>\n",
       "      <td>128</td>\n",
       "      <td>-128</td>\n",
       "      <td>240</td>\n",
       "      <td>-16</td>\n",
       "      <td>28</td>\n",
       "      <td>28</td>\n",
       "    </tr>\n",
       "    <tr>\n",
       "      <th>8540</th>\n",
       "      <td>1.596812e+09</td>\n",
       "      <td>can2</td>\n",
       "      <td>680</td>\n",
       "      <td>2A8</td>\n",
       "      <td>020000000080002C</td>\n",
       "      <td>2</td>\n",
       "      <td>2</td>\n",
       "      <td>0</td>\n",
       "      <td>0</td>\n",
       "      <td>0</td>\n",
       "      <td>...</td>\n",
       "      <td>0</td>\n",
       "      <td>0</td>\n",
       "      <td>0</td>\n",
       "      <td>0</td>\n",
       "      <td>128</td>\n",
       "      <td>-128</td>\n",
       "      <td>0</td>\n",
       "      <td>0</td>\n",
       "      <td>44</td>\n",
       "      <td>44</td>\n",
       "    </tr>\n",
       "    <tr>\n",
       "      <th>8541</th>\n",
       "      <td>1.596812e+09</td>\n",
       "      <td>can2</td>\n",
       "      <td>680</td>\n",
       "      <td>2A8</td>\n",
       "      <td>020000000080103C</td>\n",
       "      <td>2</td>\n",
       "      <td>2</td>\n",
       "      <td>0</td>\n",
       "      <td>0</td>\n",
       "      <td>0</td>\n",
       "      <td>...</td>\n",
       "      <td>0</td>\n",
       "      <td>0</td>\n",
       "      <td>0</td>\n",
       "      <td>0</td>\n",
       "      <td>128</td>\n",
       "      <td>-128</td>\n",
       "      <td>16</td>\n",
       "      <td>16</td>\n",
       "      <td>60</td>\n",
       "      <td>60</td>\n",
       "    </tr>\n",
       "  </tbody>\n",
       "</table>\n",
       "<p>8542 rows × 21 columns</p>\n",
       "</div>"
      ],
      "text/plain": [
       "         timestamp canbus  can_id can_id_hex      can_data_hex  B0  b0  B1  \\\n",
       "0     1.596811e+09   can2     680        2A8  020000000080A0CC   2   2   0   \n",
       "1     1.596811e+09   can2     680        2A8  020000000080B0DC   2   2   0   \n",
       "2     1.596811e+09   can2     680        2A8  020000000080C0EC   2   2   0   \n",
       "3     1.596811e+09   can2     680        2A8  020000000080D0FC   2   2   0   \n",
       "4     1.596811e+09   can2     680        2A8  020000000080E00C   2   2   0   \n",
       "...            ...    ...     ...        ...               ...  ..  ..  ..   \n",
       "8537  1.596812e+09   can2     680        2A8  020000000080D0FC   2   2   0   \n",
       "8538  1.596812e+09   can2     680        2A8  020000000080E00C   2   2   0   \n",
       "8539  1.596812e+09   can2     680        2A8  020000000080F01C   2   2   0   \n",
       "8540  1.596812e+09   can2     680        2A8  020000000080002C   2   2   0   \n",
       "8541  1.596812e+09   can2     680        2A8  020000000080103C   2   2   0   \n",
       "\n",
       "      b1  B2  ...  B3  b3  B4  b4   B5   b5   B6  b6   B7  b7  \n",
       "0      0   0  ...   0   0   0   0  128 -128  160 -96  204 -52  \n",
       "1      0   0  ...   0   0   0   0  128 -128  176 -80  220 -36  \n",
       "2      0   0  ...   0   0   0   0  128 -128  192 -64  236 -20  \n",
       "3      0   0  ...   0   0   0   0  128 -128  208 -48  252  -4  \n",
       "4      0   0  ...   0   0   0   0  128 -128  224 -32   12  12  \n",
       "...   ..  ..  ...  ..  ..  ..  ..  ...  ...  ...  ..  ...  ..  \n",
       "8537   0   0  ...   0   0   0   0  128 -128  208 -48  252  -4  \n",
       "8538   0   0  ...   0   0   0   0  128 -128  224 -32   12  12  \n",
       "8539   0   0  ...   0   0   0   0  128 -128  240 -16   28  28  \n",
       "8540   0   0  ...   0   0   0   0  128 -128    0   0   44  44  \n",
       "8541   0   0  ...   0   0   0   0  128 -128   16  16   60  60  \n",
       "\n",
       "[8542 rows x 21 columns]"
      ]
     },
     "execution_count": 100,
     "metadata": {},
     "output_type": "execute_result"
    }
   ],
   "source": [
    "data"
   ]
  },
  {
   "cell_type": "code",
   "execution_count": 102,
   "metadata": {},
   "outputs": [
    {
     "data": {
      "text/plain": [
       "'candump_0x2A8.parquet'"
      ]
     },
     "execution_count": 102,
     "metadata": {},
     "output_type": "execute_result"
    }
   ],
   "source": [
    "parquet_file = f\"candump_0x{key}.parquet\"\n",
    "parquet_file"
   ]
  },
  {
   "cell_type": "code",
   "execution_count": 103,
   "metadata": {},
   "outputs": [],
   "source": [
    "data.to_parquet(parquet_file)"
   ]
  },
  {
   "cell_type": "code",
   "execution_count": null,
   "metadata": {},
   "outputs": [],
   "source": [
    "data2=pd.DataFrame.p    "
   ]
  },
  {
   "cell_type": "code",
   "execution_count": 107,
   "metadata": {},
   "outputs": [],
   "source": [
    "import pyarrow.parquet as pq\n",
    "import pyarrow as pa\n",
    "df=data\n",
    "table = pa.Table.from_pandas(df)"
   ]
  },
  {
   "cell_type": "code",
   "execution_count": 108,
   "metadata": {},
   "outputs": [
    {
     "data": {
      "text/plain": [
       "pyarrow.Table\n",
       "timestamp: double\n",
       "canbus: string\n",
       "can_id: int64\n",
       "can_id_hex: string\n",
       "can_data_hex: string\n",
       "B0: int64\n",
       "b0: int64\n",
       "B1: int64\n",
       "b1: int64\n",
       "B2: int64\n",
       "b2: int64\n",
       "B3: int64\n",
       "b3: int64\n",
       "B4: int64\n",
       "b4: int64\n",
       "B5: int64\n",
       "b5: int64\n",
       "B6: int64\n",
       "b6: int64\n",
       "B7: int64\n",
       "b7: int64"
      ]
     },
     "execution_count": 108,
     "metadata": {},
     "output_type": "execute_result"
    }
   ],
   "source": [
    "table"
   ]
  },
  {
   "cell_type": "code",
   "execution_count": 109,
   "metadata": {},
   "outputs": [],
   "source": [
    "pq.write_table(table, 'example.parquet')"
   ]
  },
  {
   "cell_type": "code",
   "execution_count": 110,
   "metadata": {},
   "outputs": [
    {
     "data": {
      "text/html": [
       "<div>\n",
       "<style scoped>\n",
       "    .dataframe tbody tr th:only-of-type {\n",
       "        vertical-align: middle;\n",
       "    }\n",
       "\n",
       "    .dataframe tbody tr th {\n",
       "        vertical-align: top;\n",
       "    }\n",
       "\n",
       "    .dataframe thead th {\n",
       "        text-align: right;\n",
       "    }\n",
       "</style>\n",
       "<table border=\"1\" class=\"dataframe\">\n",
       "  <thead>\n",
       "    <tr style=\"text-align: right;\">\n",
       "      <th></th>\n",
       "      <th>timestamp</th>\n",
       "      <th>canbus</th>\n",
       "      <th>can_id</th>\n",
       "      <th>can_id_hex</th>\n",
       "      <th>can_data_hex</th>\n",
       "      <th>B0</th>\n",
       "      <th>b0</th>\n",
       "      <th>B1</th>\n",
       "      <th>b1</th>\n",
       "      <th>B2</th>\n",
       "      <th>...</th>\n",
       "      <th>B3</th>\n",
       "      <th>b3</th>\n",
       "      <th>B4</th>\n",
       "      <th>b4</th>\n",
       "      <th>B5</th>\n",
       "      <th>b5</th>\n",
       "      <th>B6</th>\n",
       "      <th>b6</th>\n",
       "      <th>B7</th>\n",
       "      <th>b7</th>\n",
       "    </tr>\n",
       "  </thead>\n",
       "  <tbody>\n",
       "    <tr>\n",
       "      <th>0</th>\n",
       "      <td>1.596811e+09</td>\n",
       "      <td>can2</td>\n",
       "      <td>680</td>\n",
       "      <td>2A8</td>\n",
       "      <td>020000000080A0CC</td>\n",
       "      <td>2</td>\n",
       "      <td>2</td>\n",
       "      <td>0</td>\n",
       "      <td>0</td>\n",
       "      <td>0</td>\n",
       "      <td>...</td>\n",
       "      <td>0</td>\n",
       "      <td>0</td>\n",
       "      <td>0</td>\n",
       "      <td>0</td>\n",
       "      <td>128</td>\n",
       "      <td>-128</td>\n",
       "      <td>160</td>\n",
       "      <td>-96</td>\n",
       "      <td>204</td>\n",
       "      <td>-52</td>\n",
       "    </tr>\n",
       "    <tr>\n",
       "      <th>1</th>\n",
       "      <td>1.596811e+09</td>\n",
       "      <td>can2</td>\n",
       "      <td>680</td>\n",
       "      <td>2A8</td>\n",
       "      <td>020000000080B0DC</td>\n",
       "      <td>2</td>\n",
       "      <td>2</td>\n",
       "      <td>0</td>\n",
       "      <td>0</td>\n",
       "      <td>0</td>\n",
       "      <td>...</td>\n",
       "      <td>0</td>\n",
       "      <td>0</td>\n",
       "      <td>0</td>\n",
       "      <td>0</td>\n",
       "      <td>128</td>\n",
       "      <td>-128</td>\n",
       "      <td>176</td>\n",
       "      <td>-80</td>\n",
       "      <td>220</td>\n",
       "      <td>-36</td>\n",
       "    </tr>\n",
       "    <tr>\n",
       "      <th>2</th>\n",
       "      <td>1.596811e+09</td>\n",
       "      <td>can2</td>\n",
       "      <td>680</td>\n",
       "      <td>2A8</td>\n",
       "      <td>020000000080C0EC</td>\n",
       "      <td>2</td>\n",
       "      <td>2</td>\n",
       "      <td>0</td>\n",
       "      <td>0</td>\n",
       "      <td>0</td>\n",
       "      <td>...</td>\n",
       "      <td>0</td>\n",
       "      <td>0</td>\n",
       "      <td>0</td>\n",
       "      <td>0</td>\n",
       "      <td>128</td>\n",
       "      <td>-128</td>\n",
       "      <td>192</td>\n",
       "      <td>-64</td>\n",
       "      <td>236</td>\n",
       "      <td>-20</td>\n",
       "    </tr>\n",
       "    <tr>\n",
       "      <th>3</th>\n",
       "      <td>1.596811e+09</td>\n",
       "      <td>can2</td>\n",
       "      <td>680</td>\n",
       "      <td>2A8</td>\n",
       "      <td>020000000080D0FC</td>\n",
       "      <td>2</td>\n",
       "      <td>2</td>\n",
       "      <td>0</td>\n",
       "      <td>0</td>\n",
       "      <td>0</td>\n",
       "      <td>...</td>\n",
       "      <td>0</td>\n",
       "      <td>0</td>\n",
       "      <td>0</td>\n",
       "      <td>0</td>\n",
       "      <td>128</td>\n",
       "      <td>-128</td>\n",
       "      <td>208</td>\n",
       "      <td>-48</td>\n",
       "      <td>252</td>\n",
       "      <td>-4</td>\n",
       "    </tr>\n",
       "    <tr>\n",
       "      <th>4</th>\n",
       "      <td>1.596811e+09</td>\n",
       "      <td>can2</td>\n",
       "      <td>680</td>\n",
       "      <td>2A8</td>\n",
       "      <td>020000000080E00C</td>\n",
       "      <td>2</td>\n",
       "      <td>2</td>\n",
       "      <td>0</td>\n",
       "      <td>0</td>\n",
       "      <td>0</td>\n",
       "      <td>...</td>\n",
       "      <td>0</td>\n",
       "      <td>0</td>\n",
       "      <td>0</td>\n",
       "      <td>0</td>\n",
       "      <td>128</td>\n",
       "      <td>-128</td>\n",
       "      <td>224</td>\n",
       "      <td>-32</td>\n",
       "      <td>12</td>\n",
       "      <td>12</td>\n",
       "    </tr>\n",
       "    <tr>\n",
       "      <th>...</th>\n",
       "      <td>...</td>\n",
       "      <td>...</td>\n",
       "      <td>...</td>\n",
       "      <td>...</td>\n",
       "      <td>...</td>\n",
       "      <td>...</td>\n",
       "      <td>...</td>\n",
       "      <td>...</td>\n",
       "      <td>...</td>\n",
       "      <td>...</td>\n",
       "      <td>...</td>\n",
       "      <td>...</td>\n",
       "      <td>...</td>\n",
       "      <td>...</td>\n",
       "      <td>...</td>\n",
       "      <td>...</td>\n",
       "      <td>...</td>\n",
       "      <td>...</td>\n",
       "      <td>...</td>\n",
       "      <td>...</td>\n",
       "      <td>...</td>\n",
       "    </tr>\n",
       "    <tr>\n",
       "      <th>8537</th>\n",
       "      <td>1.596812e+09</td>\n",
       "      <td>can2</td>\n",
       "      <td>680</td>\n",
       "      <td>2A8</td>\n",
       "      <td>020000000080D0FC</td>\n",
       "      <td>2</td>\n",
       "      <td>2</td>\n",
       "      <td>0</td>\n",
       "      <td>0</td>\n",
       "      <td>0</td>\n",
       "      <td>...</td>\n",
       "      <td>0</td>\n",
       "      <td>0</td>\n",
       "      <td>0</td>\n",
       "      <td>0</td>\n",
       "      <td>128</td>\n",
       "      <td>-128</td>\n",
       "      <td>208</td>\n",
       "      <td>-48</td>\n",
       "      <td>252</td>\n",
       "      <td>-4</td>\n",
       "    </tr>\n",
       "    <tr>\n",
       "      <th>8538</th>\n",
       "      <td>1.596812e+09</td>\n",
       "      <td>can2</td>\n",
       "      <td>680</td>\n",
       "      <td>2A8</td>\n",
       "      <td>020000000080E00C</td>\n",
       "      <td>2</td>\n",
       "      <td>2</td>\n",
       "      <td>0</td>\n",
       "      <td>0</td>\n",
       "      <td>0</td>\n",
       "      <td>...</td>\n",
       "      <td>0</td>\n",
       "      <td>0</td>\n",
       "      <td>0</td>\n",
       "      <td>0</td>\n",
       "      <td>128</td>\n",
       "      <td>-128</td>\n",
       "      <td>224</td>\n",
       "      <td>-32</td>\n",
       "      <td>12</td>\n",
       "      <td>12</td>\n",
       "    </tr>\n",
       "    <tr>\n",
       "      <th>8539</th>\n",
       "      <td>1.596812e+09</td>\n",
       "      <td>can2</td>\n",
       "      <td>680</td>\n",
       "      <td>2A8</td>\n",
       "      <td>020000000080F01C</td>\n",
       "      <td>2</td>\n",
       "      <td>2</td>\n",
       "      <td>0</td>\n",
       "      <td>0</td>\n",
       "      <td>0</td>\n",
       "      <td>...</td>\n",
       "      <td>0</td>\n",
       "      <td>0</td>\n",
       "      <td>0</td>\n",
       "      <td>0</td>\n",
       "      <td>128</td>\n",
       "      <td>-128</td>\n",
       "      <td>240</td>\n",
       "      <td>-16</td>\n",
       "      <td>28</td>\n",
       "      <td>28</td>\n",
       "    </tr>\n",
       "    <tr>\n",
       "      <th>8540</th>\n",
       "      <td>1.596812e+09</td>\n",
       "      <td>can2</td>\n",
       "      <td>680</td>\n",
       "      <td>2A8</td>\n",
       "      <td>020000000080002C</td>\n",
       "      <td>2</td>\n",
       "      <td>2</td>\n",
       "      <td>0</td>\n",
       "      <td>0</td>\n",
       "      <td>0</td>\n",
       "      <td>...</td>\n",
       "      <td>0</td>\n",
       "      <td>0</td>\n",
       "      <td>0</td>\n",
       "      <td>0</td>\n",
       "      <td>128</td>\n",
       "      <td>-128</td>\n",
       "      <td>0</td>\n",
       "      <td>0</td>\n",
       "      <td>44</td>\n",
       "      <td>44</td>\n",
       "    </tr>\n",
       "    <tr>\n",
       "      <th>8541</th>\n",
       "      <td>1.596812e+09</td>\n",
       "      <td>can2</td>\n",
       "      <td>680</td>\n",
       "      <td>2A8</td>\n",
       "      <td>020000000080103C</td>\n",
       "      <td>2</td>\n",
       "      <td>2</td>\n",
       "      <td>0</td>\n",
       "      <td>0</td>\n",
       "      <td>0</td>\n",
       "      <td>...</td>\n",
       "      <td>0</td>\n",
       "      <td>0</td>\n",
       "      <td>0</td>\n",
       "      <td>0</td>\n",
       "      <td>128</td>\n",
       "      <td>-128</td>\n",
       "      <td>16</td>\n",
       "      <td>16</td>\n",
       "      <td>60</td>\n",
       "      <td>60</td>\n",
       "    </tr>\n",
       "  </tbody>\n",
       "</table>\n",
       "<p>8542 rows × 21 columns</p>\n",
       "</div>"
      ],
      "text/plain": [
       "         timestamp canbus  can_id can_id_hex      can_data_hex  B0  b0  B1  \\\n",
       "0     1.596811e+09   can2     680        2A8  020000000080A0CC   2   2   0   \n",
       "1     1.596811e+09   can2     680        2A8  020000000080B0DC   2   2   0   \n",
       "2     1.596811e+09   can2     680        2A8  020000000080C0EC   2   2   0   \n",
       "3     1.596811e+09   can2     680        2A8  020000000080D0FC   2   2   0   \n",
       "4     1.596811e+09   can2     680        2A8  020000000080E00C   2   2   0   \n",
       "...            ...    ...     ...        ...               ...  ..  ..  ..   \n",
       "8537  1.596812e+09   can2     680        2A8  020000000080D0FC   2   2   0   \n",
       "8538  1.596812e+09   can2     680        2A8  020000000080E00C   2   2   0   \n",
       "8539  1.596812e+09   can2     680        2A8  020000000080F01C   2   2   0   \n",
       "8540  1.596812e+09   can2     680        2A8  020000000080002C   2   2   0   \n",
       "8541  1.596812e+09   can2     680        2A8  020000000080103C   2   2   0   \n",
       "\n",
       "      b1  B2  ...  B3  b3  B4  b4   B5   b5   B6  b6   B7  b7  \n",
       "0      0   0  ...   0   0   0   0  128 -128  160 -96  204 -52  \n",
       "1      0   0  ...   0   0   0   0  128 -128  176 -80  220 -36  \n",
       "2      0   0  ...   0   0   0   0  128 -128  192 -64  236 -20  \n",
       "3      0   0  ...   0   0   0   0  128 -128  208 -48  252  -4  \n",
       "4      0   0  ...   0   0   0   0  128 -128  224 -32   12  12  \n",
       "...   ..  ..  ...  ..  ..  ..  ..  ...  ...  ...  ..  ...  ..  \n",
       "8537   0   0  ...   0   0   0   0  128 -128  208 -48  252  -4  \n",
       "8538   0   0  ...   0   0   0   0  128 -128  224 -32   12  12  \n",
       "8539   0   0  ...   0   0   0   0  128 -128  240 -16   28  28  \n",
       "8540   0   0  ...   0   0   0   0  128 -128    0   0   44  44  \n",
       "8541   0   0  ...   0   0   0   0  128 -128   16  16   60  60  \n",
       "\n",
       "[8542 rows x 21 columns]"
      ]
     },
     "execution_count": 110,
     "metadata": {},
     "output_type": "execute_result"
    }
   ],
   "source": [
    "table2 = pq.read_table('example.parquet')\n",
    "\n",
    "table2.to_pandas()"
   ]
  },
  {
   "cell_type": "code",
   "execution_count": 111,
   "metadata": {
    "tags": []
   },
   "outputs": [
    {
     "name": "stdout",
     "output_type": "stream",
     "text": [
      "10.4 ms ± 443 µs per loop (mean ± std. dev. of 7 runs, 100 loops each)\n"
     ]
    }
   ],
   "source": [
    "%%timeit\n",
    "data.to_parquet(parquet_file)"
   ]
  },
  {
   "cell_type": "code",
   "execution_count": 112,
   "metadata": {
    "tags": []
   },
   "outputs": [
    {
     "name": "stdout",
     "output_type": "stream",
     "text": [
      "9.99 ms ± 153 µs per loop (mean ± std. dev. of 7 runs, 100 loops each)\n"
     ]
    }
   ],
   "source": [
    "%%timeit\n",
    "table = pa.Table.from_pandas(df)\n",
    "pq.write_table(table, 'example.parquet')"
   ]
  },
  {
   "cell_type": "code",
   "execution_count": null,
   "metadata": {},
   "outputs": [],
   "source": []
  },
  {
   "cell_type": "code",
   "execution_count": null,
   "metadata": {},
   "outputs": [],
   "source": []
  },
  {
   "cell_type": "code",
   "execution_count": null,
   "metadata": {},
   "outputs": [],
   "source": [
    "can_id_hex_str"
   ]
  },
  {
   "cell_type": "code",
   "execution_count": null,
   "metadata": {},
   "outputs": [],
   "source": [
    "int(can_id_hex_str, base=16)"
   ]
  },
  {
   "cell_type": "code",
   "execution_count": null,
   "metadata": {},
   "outputs": [],
   "source": [
    "assert(f\"{int(can_id_hex_str, base=16):X}\"==can_id_hex_str)"
   ]
  },
  {
   "cell_type": "code",
   "execution_count": null,
   "metadata": {},
   "outputs": [],
   "source": [
    "can_id_hex_str in hammer"
   ]
  },
  {
   "cell_type": "code",
   "execution_count": null,
   "metadata": {},
   "outputs": [],
   "source": []
  },
  {
   "cell_type": "code",
   "execution_count": null,
   "metadata": {},
   "outputs": [],
   "source": [
    "hammer=dict()\n",
    "if not can_id_hex_str in hammer:\n",
    "    hammer[can_id_hex_str]=dict({\n",
    "        \"timestamp\": list(),\n",
    "        \"canbus\": list(),\n",
    "        \"can_id\": list(),\n",
    "        \"can_id_hex\": list(),\n",
    "        \"can_data_hex\": list()\n",
    "        # ...\n",
    "    })"
   ]
  },
  {
   "cell_type": "code",
   "execution_count": null,
   "metadata": {},
   "outputs": [],
   "source": [
    "timestamp = float(time_raw.strip(\")(\"))\n",
    "hammer[can_id_hex_str][\"timestamp\"].append(timestamp)\n",
    "hammer[can_id_hex_str][\"canbus\"].append(bus_raw)\n",
    "hammer[can_id_hex_str][\"can_id\"].append(int(can_id_hex_str, base=16))\n",
    "hammer[can_id_hex_str][\"can_id_hex\"].append(can_id_hex_str)\n",
    "hammer[can_id_hex_str][\"can_data_hex\"].append(can_id_hex_str)"
   ]
  },
  {
   "cell_type": "code",
   "execution_count": null,
   "metadata": {},
   "outputs": [],
   "source": [
    "can_data"
   ]
  },
  {
   "cell_type": "code",
   "execution_count": null,
   "metadata": {},
   "outputs": [],
   "source": []
  },
  {
   "cell_type": "code",
   "execution_count": null,
   "metadata": {
    "tags": []
   },
   "outputs": [],
   "source": [
    "for idx in range(0, len(can_data), 2):\n",
    "    print(can_data[idx:idx+2])"
   ]
  },
  {
   "cell_type": "code",
   "execution_count": null,
   "metadata": {},
   "outputs": [],
   "source": [
    "[ \n",
    "    (can_data[idx:idx+2])\n",
    "    for idx in range(0, len(can_data), 2)\n",
    "]\n"
   ]
  },
  {
   "cell_type": "code",
   "execution_count": null,
   "metadata": {},
   "outputs": [],
   "source": [
    "[ \n",
    "    int(can_data[idx:idx+2], base=16)\n",
    "    for idx in range(0, len(can_data), 2)\n",
    "]"
   ]
  },
  {
   "cell_type": "code",
   "execution_count": null,
   "metadata": {},
   "outputs": [],
   "source": [
    "can_data_bytes = [ \n",
    "    int(can_data[idx:idx+2], base=16)\n",
    "    for idx in range(0, len(can_data), 2)\n",
    "]"
   ]
  },
  {
   "cell_type": "code",
   "execution_count": null,
   "metadata": {},
   "outputs": [],
   "source": [
    "len(can_data_bytes)"
   ]
  },
  {
   "cell_type": "code",
   "execution_count": null,
   "metadata": {},
   "outputs": [],
   "source": [
    "\"<\"+\"B\"*len(can_data_bytes)"
   ]
  },
  {
   "cell_type": "code",
   "execution_count": null,
   "metadata": {},
   "outputs": [],
   "source": [
    "x = \"<\"+\"B\"*len(can_data_bytes)"
   ]
  },
  {
   "cell_type": "code",
   "execution_count": null,
   "metadata": {},
   "outputs": [],
   "source": [
    "struct.pack(x, *can_data_bytes)"
   ]
  },
  {
   "cell_type": "code",
   "execution_count": null,
   "metadata": {},
   "outputs": [],
   "source": [
    "can_data\n"
   ]
  },
  {
   "cell_type": "code",
   "execution_count": null,
   "metadata": {},
   "outputs": [],
   "source": [
    "x = \">\"+\"B\"*len(can_data_bytes)\n",
    "B = struct.pack(x, *can_data_bytes)"
   ]
  },
  {
   "cell_type": "code",
   "execution_count": null,
   "metadata": {},
   "outputs": [],
   "source": []
  },
  {
   "cell_type": "code",
   "execution_count": null,
   "metadata": {},
   "outputs": [],
   "source": [
    "len(can_data_bytes)%2"
   ]
  },
  {
   "cell_type": "code",
   "execution_count": null,
   "metadata": {},
   "outputs": [],
   "source": [
    "x = \"<\"+\"H\"*int(len(can_data_bytes)/2)\n",
    "struct.unpack(x, B)"
   ]
  },
  {
   "cell_type": "code",
   "execution_count": null,
   "metadata": {},
   "outputs": [],
   "source": [
    "x = \"<\"+\"h\"*int(len(can_data_bytes)/2)\n",
    "struct.unpack(x, B)"
   ]
  },
  {
   "cell_type": "code",
   "execution_count": null,
   "metadata": {},
   "outputs": [],
   "source": [
    "x = \">\"+\"H\"*int(len(can_data_bytes)/2)\n",
    "struct.unpack(x, B)"
   ]
  },
  {
   "cell_type": "code",
   "execution_count": null,
   "metadata": {},
   "outputs": [],
   "source": [
    "x = \">\"+\"H\"*int(len(can_data_bytes)/2)\n",
    "struct.unpack(x, B)"
   ]
  },
  {
   "cell_type": "code",
   "execution_count": null,
   "metadata": {},
   "outputs": [],
   "source": [
    "struct.unpack(x, B)"
   ]
  },
  {
   "cell_type": "code",
   "execution_count": null,
   "metadata": {},
   "outputs": [],
   "source": [
    "len(can_data)/2"
   ]
  },
  {
   "cell_type": "code",
   "execution_count": null,
   "metadata": {},
   "outputs": [],
   "source": [
    "int(can_data, base=16)"
   ]
  },
  {
   "cell_type": "code",
   "execution_count": null,
   "metadata": {},
   "outputs": [],
   "source": [
    "import struct"
   ]
  },
  {
   "cell_type": "code",
   "execution_count": null,
   "metadata": {},
   "outputs": [],
   "source": [
    "struct.pack(\">U\", int(can_data, base=16))"
   ]
  },
  {
   "cell_type": "code",
   "execution_count": null,
   "metadata": {},
   "outputs": [],
   "source": [
    "struct.pack?"
   ]
  },
  {
   "cell_type": "code",
   "execution_count": null,
   "metadata": {},
   "outputs": [],
   "source": []
  },
  {
   "cell_type": "code",
   "execution_count": null,
   "metadata": {},
   "outputs": [],
   "source": []
  },
  {
   "cell_type": "code",
   "execution_count": null,
   "metadata": {},
   "outputs": [],
   "source": [
    "hammer"
   ]
  },
  {
   "cell_type": "code",
   "execution_count": null,
   "metadata": {},
   "outputs": [],
   "source": [
    "can_id_hex_str"
   ]
  },
  {
   "cell_type": "code",
   "execution_count": null,
   "metadata": {},
   "outputs": [],
   "source": []
  },
  {
   "cell_type": "code",
   "execution_count": null,
   "metadata": {},
   "outputs": [],
   "source": [
    "float(time_raw.strip(\")(\"))"
   ]
  },
  {
   "cell_type": "code",
   "execution_count": null,
   "metadata": {},
   "outputs": [],
   "source": [
    "df[DATE_FIELD]=(pd.to_datetime(df[DATE_FIELD],unit='ms')) "
   ]
  },
  {
   "cell_type": "code",
   "execution_count": null,
   "metadata": {},
   "outputs": [],
   "source": [
    "import pandas as pd"
   ]
  },
  {
   "cell_type": "code",
   "execution_count": null,
   "metadata": {},
   "outputs": [],
   "source": [
    "pd.to_datetime([float(time_raw.strip(\")(\"))], unit=\"s\")"
   ]
  },
  {
   "cell_type": "code",
   "execution_count": null,
   "metadata": {},
   "outputs": [],
   "source": []
  },
  {
   "cell_type": "code",
   "execution_count": null,
   "metadata": {},
   "outputs": [],
   "source": []
  },
  {
   "cell_type": "code",
   "execution_count": null,
   "metadata": {},
   "outputs": [],
   "source": [
    "class CanMsg(object):\n",
    "    def __init__(self, canid, data):\n",
    "        self.canid=canid\n",
    "        self.data=data\n",
    "        \n",
    "    def __repr__(self):\n",
    "        return f\"CAN<{self.canid}, {self.data}>\"\n",
    "def parse_log(log_file):\n",
    "    messages = list()\n",
    "    with open(log_file, \"r\") as f:\n",
    "        for can_msg in f.readlines():\n",
    "            can_id, can_data = can_msg.strip().split(\" \")[-1].split(\"#\")\n",
    "            cm = CanMsg(can_id, can_data)\n",
    "            messages.append(cm)\n",
    "    #\n",
    "    unique_datas = dict()\n",
    "    #\n",
    "    for canid in set([msg.canid for msg in messages]):\n",
    "        id_datas = set([msg.data for msg in messages if msg.canid==canid])\n",
    "        unique_datas[canid] = id_datas\n",
    "    #\n",
    "    return unique_datas\n",
    "\n",
    "data = parse_log(\"final_log\")"
   ]
  },
  {
   "cell_type": "code",
   "execution_count": null,
   "metadata": {},
   "outputs": [],
   "source": []
  },
  {
   "cell_type": "code",
   "execution_count": null,
   "metadata": {},
   "outputs": [],
   "source": [
    "import struct"
   ]
  },
  {
   "cell_type": "code",
   "execution_count": null,
   "metadata": {},
   "outputs": [],
   "source": [
    "data = parse_log(\"final_log\")"
   ]
  }
 ],
 "metadata": {
  "kernelspec": {
   "display_name": "Python 3",
   "language": "python",
   "name": "python3"
  },
  "language_info": {
   "codemirror_mode": {
    "name": "ipython",
    "version": 3
   },
   "file_extension": ".py",
   "mimetype": "text/x-python",
   "name": "python",
   "nbconvert_exporter": "python",
   "pygments_lexer": "ipython3",
   "version": "3.8.6"
  }
 },
 "nbformat": 4,
 "nbformat_minor": 4
}
